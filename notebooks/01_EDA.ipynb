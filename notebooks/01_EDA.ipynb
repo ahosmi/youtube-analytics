{
 "cells": [
  {
   "cell_type": "code",
   "execution_count": null,
   "id": "de847587-1fa7-4d99-b820-5d29fac20614",
   "metadata": {},
   "outputs": [],
   "source": [
    "import pandas as pd\n",
    "import numpy as np\n",
    "import matplotlib.pyplot as plt\n",
    "import seaborn as sns\n",
    "from wordcloud import WordCloud\n",
    "import plotly.express as px\n",
    "\n",
    "%matplotlib inline\n",
    "pd.set_option('display.max_columns', 50)"
   ]
  },
  {
   "cell_type": "code",
   "execution_count": null,
   "id": "0ff96b7e-65b2-4a97-a5ae-e893297ad8d4",
   "metadata": {},
   "outputs": [],
   "source": [
    "df = pd.read_csv('../data/cleaned_data.csv')\n",
    "df['publishedAt'] = pd.to_datetime(df['publishedAt'])\n",
    "df['engagement_rate'] = (df['likes'] + df['comments']) / df['views'].replace(0,1)\n",
    "df['upload_hour'] = df['publishedAt'].dt.hour\n",
    "df['days_since_upload'] = (pd.Timestamp('now') - df['publishedAt']).dt.days.replace(0,1)\n",
    "df['views_per_day'] = df['views'] / df['days_since_upload']"
   ]
  },
  {
   "cell_type": "code",
   "execution_count": null,
   "id": "16e73c3b-1bdb-470b-bc8e-6974365ba9c5",
   "metadata": {},
   "outputs": [],
   "source": [
    "df.info()\n",
    "df.head()\n",
    "df.describe()\n",
    "missing = df.isnull().sum()\n",
    "print(\"Missing values:\\n\", missing)"
   ]
  },
  {
   "cell_type": "code",
   "execution_count": null,
   "id": "4c44a7ec-3c3e-4b01-9fd4-f02cad21e14b",
   "metadata": {},
   "outputs": [],
   "source": [
    "display_cols = ['title', 'views', 'likes', 'comments', 'engagement_rate']\n",
    "print(\"Top 10 Most Viewed Videos:\")\n",
    "display(df.sort_values(\"views\", ascending=False)[display_cols].head(10))\n",
    "\n",
    "print(\"Top 10 Most Liked Videos:\")\n",
    "display(df.sort_values(\"likes\", ascending=False)[display_cols].head(10))\n",
    "\n",
    "print(\"Top 10 Most Commented Videos:\")\n",
    "display(df.sort_values(\"comments\", ascending=False)[display_cols].head(10))"
   ]
  },
  {
   "cell_type": "code",
   "execution_count": null,
   "id": "26c54653-8d2e-4593-8ecf-a505e656e83a",
   "metadata": {},
   "outputs": [],
   "source": [
    "plt.figure(figsize=(8,4))\n",
    "sns.histplot(df['engagement_rate'], bins=20, kde=True)\n",
    "plt.title('Distribution of Engagement Rate')\n",
    "plt.xlabel('Engagement Rate')\n",
    "plt.ylabel('Video Count')\n",
    "plt.show()"
   ]
  },
  {
   "cell_type": "code",
   "execution_count": null,
   "id": "a93688d1-15b5-4ddc-8fb3-5eb3d7f05beb",
   "metadata": {},
   "outputs": [],
   "source": [
    "plt.figure(figsize=(8,6))\n",
    "sns.scatterplot(x='duration_sec', y='views', hue='engagement_rate', size='likes',\n",
    "                sizes=(20,100), data=df, palette='viridis')\n",
    "plt.title(\"Views vs Duration vs Engagement Rate\")\n",
    "plt.xlabel(\"Duration (seconds)\")\n",
    "plt.ylabel(\"Views\")\n",
    "plt.legend()\n",
    "plt.show()"
   ]
  },
  {
   "cell_type": "code",
   "execution_count": null,
   "id": "e7febee3-b215-4cfe-9d90-9197e9a992c1",
   "metadata": {},
   "outputs": [],
   "source": [
    "plt.figure(figsize=(10,5))\n",
    "sns.countplot(x='upload_hour', data=df)\n",
    "plt.title(\"Upload Frequency by Hour\")\n",
    "plt.xlabel(\"Hour of Day\")\n",
    "plt.ylabel(\"Videos Uploaded\")\n",
    "plt.show()"
   ]
  },
  {
   "cell_type": "code",
   "execution_count": null,
   "id": "51129e8c-58ee-4929-89f8-e918273a99f7",
   "metadata": {},
   "outputs": [],
   "source": [
    "print(\"Top Trending Videos (Views per Day):\")\n",
    "display(df.sort_values('views_per_day', ascending=False)[['title','views','views_per_day','publishedAt']].head(10))"
   ]
  },
  {
   "cell_type": "code",
   "execution_count": null,
   "id": "9ad2fae9-6dd8-4f0f-ad18-7afe3320b248",
   "metadata": {},
   "outputs": [],
   "source": [
    "plt.figure(figsize=(8,4))\n",
    "sns.histplot(df['avg_sentiment'].dropna(), bins=20, color='salmon')\n",
    "plt.title(\"Distribution of Average Comment Sentiment\")\n",
    "plt.xlabel(\"Average Sentiment (polarity)\")\n",
    "plt.ylabel(\"Video Count\")\n",
    "plt.show()\n",
    "\n",
    "print(\"Most Positive Videos:\")\n",
    "display(df.sort_values('avg_sentiment', ascending=False)[['title','avg_sentiment','views']].head(5))"
   ]
  },
  {
   "cell_type": "code",
   "execution_count": null,
   "id": "3597c08a-4945-46a5-ba01-fbdaeff37bd8",
   "metadata": {},
   "outputs": [],
   "source": [
    "keyword_counts = df['top_keyword'].value_counts().head(15)\n",
    "plt.figure(figsize=(8,4))\n",
    "sns.barplot(x=keyword_counts.index, y=keyword_counts.values, palette='Blues_d')\n",
    "plt.title(\"Top Keywords/Topics\")\n",
    "plt.xlabel(\"Keyword/Topic\")\n",
    "plt.ylabel(\"Count\")\n",
    "plt.xticks(rotation=45)\n",
    "plt.show()\n",
    "\n",
    "# Word cloud\n",
    "text = ' '.join(df['title'].astype(str)) + ' ' + ' '.join(df['description'].astype(str))\n",
    "wordcloud = WordCloud(width=800, height=400, background_color='white').generate(text)\n",
    "plt.figure(figsize=(12, 6))\n",
    "plt.imshow(wordcloud, interpolation='bilinear')\n",
    "plt.axis('off')\n",
    "plt.title(\"Word Cloud of Video Titles & Descriptions\")\n",
    "plt.show()"
   ]
  },
  {
   "cell_type": "code",
   "execution_count": null,
   "id": "9583b65b-49b9-4f50-910d-8bcef2e5739b",
   "metadata": {},
   "outputs": [],
   "source": [
    "plt.figure(figsize=(8,6))\n",
    "sns.heatmap(df[['views','likes','comments','duration_sec','engagement_rate','avg_sentiment']].corr(),\n",
    "            annot=True, fmt='.2f', cmap='crest')\n",
    "plt.title('Feature Correlation Heatmap')\n",
    "plt.show()"
   ]
  },
  {
   "cell_type": "code",
   "execution_count": null,
   "id": "d93af013-ece9-477b-82d9-4fc2a45b9b21",
   "metadata": {},
   "outputs": [],
   "source": [
    "features = ['duration_sec', 'likes', 'comments', 'avg_sentiment']\n",
    "sns.pairplot(df[features + ['views']].dropna(), diag_kind='kde')\n",
    "plt.suptitle(\"Pairwise Feature Relationships\", y=1.02)\n",
    "plt.show()"
   ]
  },
  {
   "cell_type": "code",
   "execution_count": null,
   "id": "c4dfad56-df07-46ed-bfe2-8e68314b4204",
   "metadata": {},
   "outputs": [],
   "source": []
  },
  {
   "cell_type": "code",
   "execution_count": null,
   "id": "23762a1a-8c15-4103-b39e-e32fb7db497a",
   "metadata": {},
   "outputs": [],
   "source": []
  }
 ],
 "metadata": {
  "kernelspec": {
   "display_name": "Python 3 (ipykernel)",
   "language": "python",
   "name": "python3"
  },
  "language_info": {
   "codemirror_mode": {
    "name": "ipython",
    "version": 3
   },
   "file_extension": ".py",
   "mimetype": "text/x-python",
   "name": "python",
   "nbconvert_exporter": "python",
   "pygments_lexer": "ipython3",
   "version": "3.12.10"
  }
 },
 "nbformat": 4,
 "nbformat_minor": 5
}
